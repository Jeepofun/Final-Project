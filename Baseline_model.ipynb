{
 "cells": [
  {
   "cell_type": "code",
   "execution_count": 1,
   "id": "da487888-0afa-4a01-8451-17cd903ed0b7",
   "metadata": {},
   "outputs": [
    {
     "name": "stderr",
     "output_type": "stream",
     "text": [
      "<frozen importlib._bootstrap>:219: RuntimeWarning: scipy._lib.messagestream.MessageStream size changed, may indicate binary incompatibility. Expected 56 from C header, got 64 from PyObject\n"
     ]
    },
    {
     "data": {
      "text/html": [
       "<div>\n",
       "<style scoped>\n",
       "    .dataframe tbody tr th:only-of-type {\n",
       "        vertical-align: middle;\n",
       "    }\n",
       "\n",
       "    .dataframe tbody tr th {\n",
       "        vertical-align: top;\n",
       "    }\n",
       "\n",
       "    .dataframe thead th {\n",
       "        text-align: right;\n",
       "    }\n",
       "</style>\n",
       "<table border=\"1\" class=\"dataframe\">\n",
       "  <thead>\n",
       "    <tr style=\"text-align: right;\">\n",
       "      <th></th>\n",
       "      <th>Base_Power</th>\n",
       "      <th>Mileage</th>\n",
       "      <th>Towing</th>\n",
       "      <th>Min_cargo_L</th>\n",
       "      <th>Front_headroom</th>\n",
       "      <th>Front_legroom</th>\n",
       "      <th>Rear_legroom</th>\n",
       "      <th>Rear_shoulder</th>\n",
       "      <th>Fuel_capacity</th>\n",
       "      <th>Batt</th>\n",
       "      <th>...</th>\n",
       "      <th>Seats_48</th>\n",
       "      <th>Seats_49</th>\n",
       "      <th>Seats_50</th>\n",
       "      <th>Seats_51</th>\n",
       "      <th>Seats_52</th>\n",
       "      <th>Seats_53</th>\n",
       "      <th>Seats_54</th>\n",
       "      <th>Seats_55</th>\n",
       "      <th>Name_cat</th>\n",
       "      <th>price_log</th>\n",
       "    </tr>\n",
       "  </thead>\n",
       "  <tbody>\n",
       "    <tr>\n",
       "      <th>0</th>\n",
       "      <td>272.0</td>\n",
       "      <td>9.9</td>\n",
       "      <td>1500.0</td>\n",
       "      <td>835.0</td>\n",
       "      <td>39.6</td>\n",
       "      <td>41.6</td>\n",
       "      <td>38.4</td>\n",
       "      <td>56.6</td>\n",
       "      <td>65.0</td>\n",
       "      <td>0.0</td>\n",
       "      <td>...</td>\n",
       "      <td>0</td>\n",
       "      <td>0</td>\n",
       "      <td>0</td>\n",
       "      <td>0</td>\n",
       "      <td>0</td>\n",
       "      <td>0</td>\n",
       "      <td>0</td>\n",
       "      <td>0</td>\n",
       "      <td>1</td>\n",
       "      <td>10.703357</td>\n",
       "    </tr>\n",
       "    <tr>\n",
       "      <th>1</th>\n",
       "      <td>272.0</td>\n",
       "      <td>9.9</td>\n",
       "      <td>1500.0</td>\n",
       "      <td>835.0</td>\n",
       "      <td>39.6</td>\n",
       "      <td>41.6</td>\n",
       "      <td>38.4</td>\n",
       "      <td>56.6</td>\n",
       "      <td>65.0</td>\n",
       "      <td>0.0</td>\n",
       "      <td>...</td>\n",
       "      <td>0</td>\n",
       "      <td>0</td>\n",
       "      <td>0</td>\n",
       "      <td>0</td>\n",
       "      <td>0</td>\n",
       "      <td>0</td>\n",
       "      <td>0</td>\n",
       "      <td>0</td>\n",
       "      <td>1</td>\n",
       "      <td>10.703379</td>\n",
       "    </tr>\n",
       "    <tr>\n",
       "      <th>2</th>\n",
       "      <td>272.0</td>\n",
       "      <td>9.9</td>\n",
       "      <td>1500.0</td>\n",
       "      <td>835.0</td>\n",
       "      <td>39.6</td>\n",
       "      <td>41.6</td>\n",
       "      <td>38.4</td>\n",
       "      <td>56.6</td>\n",
       "      <td>65.0</td>\n",
       "      <td>0.0</td>\n",
       "      <td>...</td>\n",
       "      <td>0</td>\n",
       "      <td>0</td>\n",
       "      <td>0</td>\n",
       "      <td>0</td>\n",
       "      <td>0</td>\n",
       "      <td>0</td>\n",
       "      <td>0</td>\n",
       "      <td>0</td>\n",
       "      <td>1</td>\n",
       "      <td>10.703402</td>\n",
       "    </tr>\n",
       "    <tr>\n",
       "      <th>3</th>\n",
       "      <td>272.0</td>\n",
       "      <td>9.9</td>\n",
       "      <td>1500.0</td>\n",
       "      <td>835.0</td>\n",
       "      <td>39.6</td>\n",
       "      <td>41.6</td>\n",
       "      <td>38.4</td>\n",
       "      <td>56.6</td>\n",
       "      <td>65.0</td>\n",
       "      <td>0.0</td>\n",
       "      <td>...</td>\n",
       "      <td>0</td>\n",
       "      <td>0</td>\n",
       "      <td>0</td>\n",
       "      <td>0</td>\n",
       "      <td>0</td>\n",
       "      <td>0</td>\n",
       "      <td>0</td>\n",
       "      <td>0</td>\n",
       "      <td>1</td>\n",
       "      <td>10.703424</td>\n",
       "    </tr>\n",
       "    <tr>\n",
       "      <th>4</th>\n",
       "      <td>272.0</td>\n",
       "      <td>9.9</td>\n",
       "      <td>1500.0</td>\n",
       "      <td>835.0</td>\n",
       "      <td>39.6</td>\n",
       "      <td>41.6</td>\n",
       "      <td>38.4</td>\n",
       "      <td>56.6</td>\n",
       "      <td>65.0</td>\n",
       "      <td>0.0</td>\n",
       "      <td>...</td>\n",
       "      <td>0</td>\n",
       "      <td>0</td>\n",
       "      <td>0</td>\n",
       "      <td>0</td>\n",
       "      <td>0</td>\n",
       "      <td>0</td>\n",
       "      <td>0</td>\n",
       "      <td>0</td>\n",
       "      <td>1</td>\n",
       "      <td>10.703447</td>\n",
       "    </tr>\n",
       "  </tbody>\n",
       "</table>\n",
       "<p>5 rows × 84 columns</p>\n",
       "</div>"
      ],
      "text/plain": [
       "   Base_Power  Mileage  Towing  Min_cargo_L  Front_headroom  Front_legroom  \\\n",
       "0       272.0      9.9  1500.0        835.0            39.6           41.6   \n",
       "1       272.0      9.9  1500.0        835.0            39.6           41.6   \n",
       "2       272.0      9.9  1500.0        835.0            39.6           41.6   \n",
       "3       272.0      9.9  1500.0        835.0            39.6           41.6   \n",
       "4       272.0      9.9  1500.0        835.0            39.6           41.6   \n",
       "\n",
       "   Rear_legroom  Rear_shoulder  Fuel_capacity  Batt  ...  Seats_48  Seats_49  \\\n",
       "0          38.4           56.6           65.0   0.0  ...         0         0   \n",
       "1          38.4           56.6           65.0   0.0  ...         0         0   \n",
       "2          38.4           56.6           65.0   0.0  ...         0         0   \n",
       "3          38.4           56.6           65.0   0.0  ...         0         0   \n",
       "4          38.4           56.6           65.0   0.0  ...         0         0   \n",
       "\n",
       "   Seats_50  Seats_51  Seats_52  Seats_53  Seats_54  Seats_55  Name_cat  \\\n",
       "0         0         0         0         0         0         0         1   \n",
       "1         0         0         0         0         0         0         1   \n",
       "2         0         0         0         0         0         0         1   \n",
       "3         0         0         0         0         0         0         1   \n",
       "4         0         0         0         0         0         0         1   \n",
       "\n",
       "   price_log  \n",
       "0  10.703357  \n",
       "1  10.703379  \n",
       "2  10.703402  \n",
       "3  10.703424  \n",
       "4  10.703447  \n",
       "\n",
       "[5 rows x 84 columns]"
      ]
     },
     "execution_count": 1,
     "metadata": {},
     "output_type": "execute_result"
    }
   ],
   "source": [
    "from sklearn.linear_model import LogisticRegression\n",
    "import numpy as np\n",
    "import pandas as pd\n",
    "df = pd.read_csv('https://raw.githubusercontent.com/Jeepofun/Final-Project/main/Data/clean_num3.csv')\n",
    "df = df.drop(columns=['Unnamed: 0'])\n",
    "df = df.replace(r'^\\s*$', np.nan, regex=True)\n",
    "df = df.rename(columns={'Base_ Engine': 'Base_Engine'})\n",
    "df.head()"
   ]
  },
  {
   "cell_type": "code",
   "execution_count": 2,
   "id": "852610c4-21d6-4437-89ba-41811b3e7a30",
   "metadata": {},
   "outputs": [],
   "source": [
    "base_lr = LogisticRegression(max_iter=1000)\n",
    "\n",
    "y = df['Name_cat']\n",
    "X = df.drop('Name_cat', axis=1)\n"
   ]
  },
  {
   "cell_type": "code",
   "execution_count": 3,
   "id": "498d9507-959a-4263-bf82-83779ac57709",
   "metadata": {},
   "outputs": [],
   "source": [
    "from sklearn.model_selection import train_test_split\n",
    "X_train, X_test, y_train, y_test = train_test_split(X,y, test_size=.3, shuffle=True) "
   ]
  },
  {
   "cell_type": "code",
   "execution_count": 4,
   "id": "ac3b9e04-f535-4dfa-93fc-17f6802e8843",
   "metadata": {},
   "outputs": [
    {
     "name": "stderr",
     "output_type": "stream",
     "text": [
      "/Users/donmiller/Downloads/miniconda3/envs/py38/lib/python3.8/site-packages/sklearn/linear_model/_logistic.py:814: ConvergenceWarning: lbfgs failed to converge (status=1):\n",
      "STOP: TOTAL NO. of ITERATIONS REACHED LIMIT.\n",
      "\n",
      "Increase the number of iterations (max_iter) or scale the data as shown in:\n",
      "    https://scikit-learn.org/stable/modules/preprocessing.html\n",
      "Please also refer to the documentation for alternative solver options:\n",
      "    https://scikit-learn.org/stable/modules/linear_model.html#logistic-regression\n",
      "  n_iter_i = _check_optimize_result(\n"
     ]
    },
    {
     "data": {
      "text/plain": [
       "LogisticRegression(max_iter=1000)"
      ]
     },
     "execution_count": 4,
     "metadata": {},
     "output_type": "execute_result"
    }
   ],
   "source": [
    "base_lr.fit(X_train,y_train)"
   ]
  },
  {
   "cell_type": "code",
   "execution_count": null,
   "id": "040b88e4-e6f7-4f83-8f27-267712e76a0f",
   "metadata": {},
   "outputs": [],
   "source": []
  },
  {
   "cell_type": "code",
   "execution_count": 5,
   "id": "efca5741-142c-4b4b-ac15-e857b017d9d7",
   "metadata": {},
   "outputs": [],
   "source": [
    "y_pred = base_lr.predict(X_test)"
   ]
  },
  {
   "cell_type": "code",
   "execution_count": 6,
   "id": "bd0c2b71-eaa1-4796-8b05-ebf75a049fd2",
   "metadata": {},
   "outputs": [
    {
     "data": {
      "text/plain": [
       "0.9218986957840462"
      ]
     },
     "execution_count": 6,
     "metadata": {},
     "output_type": "execute_result"
    }
   ],
   "source": [
    "base_lr.score(X_test, y_test)"
   ]
  },
  {
   "cell_type": "code",
   "execution_count": null,
   "id": "c2894393-bfec-4cb9-8290-78d39e12b929",
   "metadata": {},
   "outputs": [],
   "source": [
    "\n"
   ]
  }
 ],
 "metadata": {
  "kernelspec": {
   "display_name": "Python 3 (ipykernel)",
   "language": "python",
   "name": "python3"
  },
  "language_info": {
   "codemirror_mode": {
    "name": "ipython",
    "version": 3
   },
   "file_extension": ".py",
   "mimetype": "text/x-python",
   "name": "python",
   "nbconvert_exporter": "python",
   "pygments_lexer": "ipython3",
   "version": "3.8.12"
  }
 },
 "nbformat": 4,
 "nbformat_minor": 5
}
