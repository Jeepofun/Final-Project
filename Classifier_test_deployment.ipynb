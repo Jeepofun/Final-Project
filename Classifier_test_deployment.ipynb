{
 "cells": [
  {
   "cell_type": "code",
   "execution_count": 1,
   "id": "893f34c2-037e-41e8-a1df-c7837d1bd706",
   "metadata": {},
   "outputs": [],
   "source": [
    "import json\n",
    "import requests"
   ]
  },
  {
   "cell_type": "code",
   "execution_count": null,
   "id": "7d832848-4cff-4da5-b1d9-3e977799542b",
   "metadata": {},
   "outputs": [],
   "source": []
  },
  {
   "cell_type": "code",
   "execution_count": null,
   "id": "0699ac22-dfed-4158-964c-56f5f07cb5eb",
   "metadata": {},
   "outputs": [],
   "source": [
    "test_car = {\n",
    "                \"Base_Price\" : [35000],        # 10398-599341\n",
    "                \"Body_style\" : ['Pickup'],     # SUV, Sedan, Hatchback, Pickup, Wagon, Van, Convertible, Wagon\n",
    "                \"Seats\": [3],                  # 2, 3, 4, 5, 6, 7, 8, 12\n",
    "                \"Base_Engine\" : [\"Gasoline\"],  # Gasoline, Hybrid, Electric, Diesel, Hydrogen\n",
    "                \"Base_Power\" : [290],          # 78-999\n",
    "                \"Mileage\" : [11.0],            # 1.0-\n",
    "                \"Drive\" : [\"RWD\"],\n",
    "                \"Towing\" : [14000.0],\n",
    "                \"Min_cargo_l\": [0.0],\n",
    "                \"Front_headroom\": [40.8],\n",
    "                \"Front_legroom\": [43.9],\n",
    "                \"Rear_legroom\": [0.0],\n",
    "                \"Rear_shoulder\": [0.0],\n",
    "                \"Fuel_capacity\" : [87.0],\n",
    "                \"Batt\": [0],\n",
    "                \"Range\" : [790]\n",
    "}\n",
    "\n"
   ]
  }
 ],
 "metadata": {
  "kernelspec": {
   "display_name": "Python 3 (ipykernel)",
   "language": "python",
   "name": "python3"
  },
  "language_info": {
   "codemirror_mode": {
    "name": "ipython",
    "version": 3
   },
   "file_extension": ".py",
   "mimetype": "text/x-python",
   "name": "python",
   "nbconvert_exporter": "python",
   "pygments_lexer": "ipython3",
   "version": "3.8.12"
  }
 },
 "nbformat": 4,
 "nbformat_minor": 5
}
